{
 "cells": [
  {
   "cell_type": "markdown",
   "id": "030ecc73",
   "metadata": {},
   "source": [
    "# Github Network Visualisation"
   ]
  },
  {
   "cell_type": "markdown",
   "id": "419e6fab",
   "metadata": {},
   "source": [
    "Import libraries and packages"
   ]
  },
  {
   "cell_type": "code",
   "execution_count": 309,
   "id": "7c6babef",
   "metadata": {},
   "outputs": [],
   "source": [
    "import pandas as pd\n",
    "import networkx as nx\n",
    "import plotly.express as px\n",
    "import matplotlib.pyplot as plt\n",
    "from pyvis.network import Network\n",
    "from community import community_louvain"
   ]
  },
  {
   "cell_type": "markdown",
   "id": "a6506c64",
   "metadata": {},
   "source": [
    "Data files"
   ]
  },
  {
   "cell_type": "code",
   "execution_count": 203,
   "id": "6555e305",
   "metadata": {},
   "outputs": [],
   "source": [
    "targets_5000_file = \"data/targets_5000.csv\"\n",
    "edges_5000_file = \"data/edges_5000.csv\"\n",
    "\n",
    "targets_1000_file = \"data/targets_1000.csv\"\n",
    "edges_1000_file = \"data/edges_1000.csv\""
   ]
  },
  {
   "cell_type": "markdown",
   "id": "994a44bb",
   "metadata": {},
   "source": [
    "Add users list to a dataframe"
   ]
  },
  {
   "cell_type": "code",
   "execution_count": 247,
   "id": "7546f536",
   "metadata": {},
   "outputs": [],
   "source": [
    "nodes_df = pd.read_csv(targets_1000_file)\n",
    "nodes_df.columns = ['userid', 'name', 'ml_user']"
   ]
  },
  {
   "cell_type": "markdown",
   "id": "b47c67b3",
   "metadata": {},
   "source": [
    "Add connections list to a dataframe and drop all connections not in the first 1000 users"
   ]
  },
  {
   "cell_type": "code",
   "execution_count": 248,
   "id": "716e7da4",
   "metadata": {},
   "outputs": [],
   "source": [
    "edges_df = pd.read_csv(edges_1000_file)\n",
    "edges_df.columns = ['userid_1', 'userid_2']"
   ]
  },
  {
   "cell_type": "markdown",
   "id": "fdadc15e",
   "metadata": {},
   "source": [
    "Remove nodes with no connections"
   ]
  },
  {
   "cell_type": "code",
   "execution_count": 249,
   "id": "6c156a52",
   "metadata": {},
   "outputs": [],
   "source": [
    "edges_to_check = set(edges_df['userid_1']) | set(edges_df['userid_2'])\n",
    "nodes_df = nodes_df[nodes_df['userid'].isin(edges_to_check)]"
   ]
  },
  {
   "cell_type": "markdown",
   "id": "b8a44add",
   "metadata": {},
   "source": [
    "Add different node color for machine learning users and non ml users"
   ]
  },
  {
   "cell_type": "code",
   "execution_count": 250,
   "id": "124adb07",
   "metadata": {},
   "outputs": [],
   "source": [
    "red_colour = '#dd4b39'\n",
    "green_colour = '#00ff1e'\n",
    "blue_colur = '#add8e6'"
   ]
  },
  {
   "cell_type": "code",
   "execution_count": 251,
   "id": "0eb838d3",
   "metadata": {},
   "outputs": [],
   "source": [
    "for index, row in nodes_df.iterrows():\n",
    "    if int(row['ml_user']) == 1:\n",
    "        nodes_df.loc[index, 'colour'] = green_colour\n",
    "    else:\n",
    "        nodes_df.loc[index, 'colour'] = red_colour"
   ]
  },
  {
   "cell_type": "markdown",
   "id": "9175e820",
   "metadata": {},
   "source": [
    "Create network graph and add nodes and edges"
   ]
  },
  {
   "cell_type": "code",
   "execution_count": 252,
   "id": "2cd05a52",
   "metadata": {},
   "outputs": [],
   "source": [
    "net = Network(notebook=True,\n",
    "              width='900px',\n",
    "              height='600px',\n",
    "              bgcolor='#222222',\n",
    "              font_color='white',\n",
    "              cdn_resources='in_line')"
   ]
  },
  {
   "cell_type": "markdown",
   "id": "82939cef",
   "metadata": {},
   "source": [
    "Create a graph object from a pandas dataframe using networkx"
   ]
  },
  {
   "cell_type": "code",
   "execution_count": 253,
   "id": "499c17fc",
   "metadata": {},
   "outputs": [],
   "source": [
    "G = nx.from_pandas_edgelist(edges_df, source = \"userid_1\", target = \"userid_2\", create_using = nx.Graph())"
   ]
  },
  {
   "cell_type": "markdown",
   "id": "f9c06b88",
   "metadata": {},
   "source": [
    "Add nodes and edges to network graph"
   ]
  },
  {
   "cell_type": "code",
   "execution_count": 254,
   "id": "e72be4b3",
   "metadata": {},
   "outputs": [],
   "source": [
    "for node in G.nodes():\n",
    "    node_color = nodes_df.loc[nodes_df['userid'] == node, 'colour'].values[0]\n",
    "    node_label = nodes_df.loc[nodes_df['userid'] == node, 'name'].values[0]\n",
    "    net.add_node(int(node), label=node_label, color=node_color)\n",
    "\n",
    "for edge in G.edges():\n",
    "    is_user1_ml = nodes_df.loc[nodes_df['userid'] == edge[0], 'ml_user'].values[0]\n",
    "    is_user2_ml = nodes_df.loc[nodes_df['userid'] == edge[1], 'ml_user'].values[0]\n",
    "    if ((is_user1_ml == 1) and (is_user2_ml == 1)):\n",
    "        net.add_edge(int(edge[0]), int(edge[1]), color=green_colour)\n",
    "    elif ((is_user1_ml == 1) or (is_user2_ml == 1)):\n",
    "        net.add_edge(int(edge[0]), int(edge[1]), color=blue_colur)\n",
    "    else:\n",
    "        net.add_edge(int(edge[0]), int(edge[1]), color=red_colour)"
   ]
  },
  {
   "cell_type": "markdown",
   "id": "68f36572",
   "metadata": {},
   "source": [
    "Write network graph to html file"
   ]
  },
  {
   "cell_type": "code",
   "execution_count": 255,
   "id": "3362ae91",
   "metadata": {},
   "outputs": [],
   "source": [
    "net.write_html('github_network.html')"
   ]
  },
  {
   "cell_type": "markdown",
   "id": "a8ad25c8",
   "metadata": {},
   "source": [
    "Plot Degree centrality"
   ]
  },
  {
   "cell_type": "code",
   "execution_count": 258,
   "id": "f06e033d",
   "metadata": {},
   "outputs": [
    {
     "data": {
      "text/plain": [
       "<Axes: xlabel='Users', ylabel='Degree Centrality'>"
      ]
     },
     "execution_count": 258,
     "metadata": {},
     "output_type": "execute_result"
    },
    {
     "data": {
      "image/png": "[encoded data removed]",
      "text/plain": [
       "<Figure size 640x480 with 1 Axes>"
      ]
     },
     "metadata": {},
     "output_type": "display_data"
    }
   ],
   "source": [
    "degree_dict = nx.degree_centrality(G)\n",
    "degree_df = pd.DataFrame.from_dict(degree_dict, orient='index', columns=['centrality'])\n",
    "degree_df = degree_df.sort_values('centrality', ascending=False)[0:9]\n",
    "degree_chart = degree_df.plot(kind=\"bar\")\n",
    "degree_chart.set_xlabel('Users')\n",
    "degree_chart.set_ylabel('Degree Centrality')\n",
    "degree_chart"
   ]
  },
  {
   "cell_type": "markdown",
   "id": "3fd0889b",
   "metadata": {},
   "source": [
    "Plot Betweeness centrality"
   ]
  },
  {
   "cell_type": "code",
   "execution_count": 262,
   "id": "919ca5a9",
   "metadata": {},
   "outputs": [
    {
     "data": {
      "text/plain": [
       "<Axes: xlabel='Users', ylabel='Betweeness Centrality'>"
      ]
     },
     "execution_count": 262,
     "metadata": {},
     "output_type": "execute_result"
    },
    {
     "data": {
      "image/png": "[encoded data removed]",
      "text/plain": [
       "<Figure size 640x480 with 1 Axes>"
      ]
     },
     "metadata": {},
     "output_type": "display_data"
    }
   ],
   "source": [
    "betweenness_dict = nx.betweenness_centrality(G)\n",
    "betweenness_df = pd.DataFrame.from_dict(betweenness_dict, orient='index', columns=['centrality'])\n",
    "betweenness_df = betweenness_df.sort_values('centrality', ascending=False)[0:9]\n",
    "betweenness_chart = betweenness_df.plot(kind=\"bar\")\n",
    "betweenness_chart.set_xlabel('Users')\n",
    "betweenness_chart.set_ylabel('Betweeness Centrality')\n",
    "betweenness_chart"
   ]
  },
  {
   "cell_type": "markdown",
   "id": "39db5530",
   "metadata": {},
   "source": [
    "Plot Closeness centrality"
   ]
  },
  {
   "cell_type": "code",
   "execution_count": 265,
   "id": "c317e3d7",
   "metadata": {},
   "outputs": [
    {
     "data": {
      "text/plain": [
       "<Axes: xlabel='Users', ylabel='Closeness Centrality'>"
      ]
     },
     "execution_count": 265,
     "metadata": {},
     "output_type": "execute_result"
    },
    {
     "data": {
      "image/png": "[encoded data removed]",
      "text/plain": [
       "<Figure size 640x480 with 1 Axes>"
      ]
     },
     "metadata": {},
     "output_type": "display_data"
    }
   ],
   "source": [
    "closeness_dict = nx.closeness_centrality(G)\n",
    "closeness_df = pd.DataFrame.from_dict(closeness_dict, orient='index', columns=['centrality'])\n",
    "closeness_df = closeness_df.sort_values('centrality', ascending=False)[0:9]\n",
    "closeness_chart = closeness_df.plot(kind=\"bar\")\n",
    "closeness_chart.set_xlabel('Users')\n",
    "closeness_chart.set_ylabel('Closeness Centrality')\n",
    "closeness_chart"
   ]
  },
  {
   "cell_type": "markdown",
   "id": "3efeaa7e",
   "metadata": {},
   "source": [
    "Add centrality measures to node attributes"
   ]
  },
  {
   "cell_type": "code",
   "execution_count": 266,
   "id": "622d3513",
   "metadata": {},
   "outputs": [],
   "source": [
    "nx.set_node_attributes(G, degree_dict, 'degree_centrality')\n",
    "nx.set_node_attributes(G, betweenness_dict, 'betweenness_centrality')\n",
    "nx.set_node_attributes(G, closeness_dict, 'closeness_centrality')"
   ]
  },
  {
   "cell_type": "markdown",
   "id": "bfa31926",
   "metadata": {},
   "source": [
    "Partition nodes into communities"
   ]
  },
  {
   "cell_type": "code",
   "execution_count": 267,
   "id": "ea7ef706",
   "metadata": {},
   "outputs": [],
   "source": [
    "communities = community_louvain.best_partition(G)"
   ]
  },
  {
   "cell_type": "markdown",
   "id": "44c2043f",
   "metadata": {},
   "source": [
    "Set community as group attribute for each node"
   ]
  },
  {
   "cell_type": "code",
   "execution_count": 270,
   "id": "4f688203",
   "metadata": {},
   "outputs": [],
   "source": [
    "nx.set_node_attributes(G, communities, 'group')"
   ]
  },
  {
   "cell_type": "markdown",
   "id": "e247409a",
   "metadata": {},
   "source": [
    "Write network graph with communities to html file"
   ]
  },
  {
   "cell_type": "code",
   "execution_count": 275,
   "id": "111cb642",
   "metadata": {},
   "outputs": [],
   "source": [
    "net.from_nx(G)\n",
    "net.write_html(\"github_network_communities.html\")"
   ]
  },
  {
   "cell_type": "markdown",
   "id": "64e5a8b9",
   "metadata": {},
   "source": [
    "Calculate the most influential users in the network based on the PageRank Algorithm"
   ]
  },
  {
   "cell_type": "code",
   "execution_count": 295,
   "id": "7da50fdb",
   "metadata": {},
   "outputs": [
    {
     "data": {
      "text/plain": [
       "<Axes: xlabel='Users', ylabel='Pagerank'>"
      ]
     },
     "execution_count": 295,
     "metadata": {},
     "output_type": "execute_result"
    },
    {
     "data": {
      "image/png": "[encoded data removed]",
      "text/plain": [
       "<Figure size 640x480 with 1 Axes>"
      ]
     },
     "metadata": {},
     "output_type": "display_data"
    }
   ],
   "source": [
    "pagerank_dict = nx.pagerank(G)\n",
    "pagerank_df = pd.DataFrame.from_dict(pagerank_dict, orient='index', columns=['pagerank'])\n",
    "pagerank_df = pagerank_df.sort_values('pagerank', ascending=False)[0:9]\n",
    "pagerank_chart = pagerank_df.plot(kind=\"bar\")\n",
    "pagerank_chart.set_xlabel('Users')\n",
    "pagerank_chart.set_ylabel('Pagerank')\n",
    "pagerank_chart"
   ]
  },
  {
   "cell_type": "markdown",
   "id": "c6da2157",
   "metadata": {},
   "source": [
    "Recommend users other github users to connect based on Jaccard Similarity"
   ]
  },
  {
   "cell_type": "code",
   "execution_count": 296,
   "id": "78c4df2f",
   "metadata": {},
   "outputs": [
    {
     "name": "stdout",
     "output_type": "stream",
     "text": [
      "Recommended connections for 1000: [10, 915, 22, 291, 24]\n"
     ]
    }
   ],
   "source": [
    "def recommend_connections(user):\n",
    "    # Calculate Jaccard similarity coefficient between the given user and all other users\n",
    "    similarities = {}\n",
    "    for other_user in G.nodes():\n",
    "        if int(other_user) != user:\n",
    "            user_friends = set(G.neighbors(user))\n",
    "            other_user_friends = set(G.neighbors(other_user))\n",
    "            similarity = len(user_friends.intersection(other_user_friends)) / len(user_friends.union(other_user_friends))\n",
    "            similarities[other_user] = similarity\n",
    "    \n",
    "    # Sort users based on similarity in descending order\n",
    "    sorted_users = sorted(similarities.items(), key=lambda x: x[1], reverse=True)\n",
    "    \n",
    "    # Recommend the top 5 users with the highest similarity\n",
    "    recommended_users = [user[0] for user in sorted_users[:5]]\n",
    "    return recommended_users\n",
    "\n",
    "user_to_recommend = 1000\n",
    "recommendations = recommend_connections(user_to_recommend)\n",
    "print(f\"Recommended connections for {user_to_recommend}: {recommendations}\")"
   ]
  },
  {
   "cell_type": "markdown",
   "id": "9a2868e9",
   "metadata": {},
   "source": [
    "Get count of ml users and web developers"
   ]
  },
  {
   "cell_type": "code",
   "execution_count": 316,
   "id": "40a1729b",
   "metadata": {},
   "outputs": [],
   "source": [
    "num_users = len(nodes_df.index)\n",
    "value_counts = nodes_df['ml_user'].value_counts().to_dict()\n",
    "ml_users_percent = value_counts.get(1, 0) / num_users\n",
    "web_users_percent = value_counts.get(0, 0) / num_users"
   ]
  },
  {
   "cell_type": "markdown",
   "id": "e92f686e",
   "metadata": {},
   "source": [
    "Plot percent of ml users and web devs in dataset"
   ]
  },
  {
   "cell_type": "code",
   "execution_count": null,
   "id": "35b93dc9",
   "metadata": {},
   "outputs": [],
   "source": [
    "plt.bar(['ML Users', 'Web Devs'], [ml_users_percent, web_users_percent])\n",
    "plt.xlabel('Values')\n",
    "plt.ylabel('Percent of users')\n",
    "plt.show()"
   ]
  },
  {
   "cell_type": "markdown",
   "id": "aa82a1b0",
   "metadata": {},
   "source": [
    "Get count of different types of connections"
   ]
  },
  {
   "cell_type": "markdown",
   "id": "2bd5a749",
   "metadata": {},
   "source": [
    "Plot percent of different types of connections"
   ]
  },
  {
   "cell_type": "markdown",
   "id": "26987484",
   "metadata": {},
   "source": [
    "Use Bayes’ theorem to find percentages of connections"
   ]
  },
  {
   "cell_type": "markdown",
   "id": "343baeaa",
   "metadata": {},
   "source": [
    "Percentage of ML Developers and Web Devs in Each Community"
   ]
  }
 ],
 "metadata": {
  "kernelspec": {
   "display_name": "Python 3 (ipykernel)",
   "language": "python",
   "name": "python3"
  },
  "language_info": {
   "codemirror_mode": {
    "name": "ipython",
    "version": 3
   },
   "file_extension": ".py",
   "mimetype": "text/x-python",
   "name": "python",
   "nbconvert_exporter": "python",
   "pygments_lexer": "ipython3",
   "version": "3.11.2"
  }
 },
 "nbformat": 4,
 "nbformat_minor": 5
}
